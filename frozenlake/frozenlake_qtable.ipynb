{
 "cells": [
  {
   "cell_type": "markdown",
   "metadata": {},
   "source": [
    "# FrozenLake Q-Table Learning"
   ]
  },
  {
   "cell_type": "code",
   "execution_count": 1,
   "metadata": {
    "collapsed": true
   },
   "outputs": [],
   "source": [
    "import gym\n",
    "import numpy as np\n",
    "import matplotlib.pyplot as plt\n",
    "%matplotlib inline"
   ]
  },
  {
   "cell_type": "markdown",
   "metadata": {},
   "source": [
    "### Load the environment"
   ]
  },
  {
   "cell_type": "code",
   "execution_count": 2,
   "metadata": {
    "scrolled": false
   },
   "outputs": [
    {
     "name": "stderr",
     "output_type": "stream",
     "text": [
      "[2017-07-08 14:26:58,092] Making new env: FrozenLake-v0\n"
     ]
    }
   ],
   "source": [
    "env = gym.make('FrozenLake-v0')\n",
    "# env = gym.make('FrozenLake8x8-v0')"
   ]
  },
  {
   "cell_type": "code",
   "execution_count": 3,
   "metadata": {},
   "outputs": [
    {
     "name": "stdout",
     "output_type": "stream",
     "text": [
      "16\n"
     ]
    }
   ],
   "source": [
    "print(env.observation_space.n)"
   ]
  },
  {
   "cell_type": "code",
   "execution_count": 4,
   "metadata": {},
   "outputs": [
    {
     "name": "stdout",
     "output_type": "stream",
     "text": [
      "4\n"
     ]
    }
   ],
   "source": [
    "print(env.action_space.n)"
   ]
  },
  {
   "cell_type": "markdown",
   "metadata": {},
   "source": [
    "### Implement Q-Table learning algorithm"
   ]
  },
  {
   "cell_type": "code",
   "execution_count": 5,
   "metadata": {
    "scrolled": true
   },
   "outputs": [
    {
     "name": "stdout",
     "output_type": "stream",
     "text": [
      "1000/10000 Average Step: 45.831 Winning Ratio: 0.27 %\n",
      "2000/10000 Average Step: 66.403 Winning Ratio: 0.429 %\n",
      "3000/10000 Average Step: 68.234 Winning Ratio: 0.392 %\n",
      "4000/10000 Average Step: 64.633 Winning Ratio: 0.418 %\n",
      "5000/10000 Average Step: 66.36 Winning Ratio: 0.418 %\n",
      "6000/10000 Average Step: 65.374 Winning Ratio: 0.432 %\n",
      "7000/10000 Average Step: 67.702 Winning Ratio: 0.424 %\n",
      "8000/10000 Average Step: 66.792 Winning Ratio: 0.423 %\n",
      "9000/10000 Average Step: 65.867 Winning Ratio: 0.443 %\n",
      "10000/10000 Average Step: 68.123 Winning Ratio: 0.419 %\n"
     ]
    }
   ],
   "source": [
    "#Initialize table with all zeros\n",
    "Q = np.zeros([env.observation_space.n,env.action_space.n])\n",
    "\n",
    "# Set learning parameters\n",
    "learn_rate = .8\n",
    "gamma = .99\n",
    "num_episodes = 10000\n",
    "\n",
    "#create lists to contain total rewards and steps per episode\n",
    "report_episodes = 1000\n",
    "step_report = []\n",
    "win_report = []\n",
    "step_list = []\n",
    "reward_list = []\n",
    "\n",
    "for i in range(num_episodes):\n",
    "    #Reset environment and get first new observation\n",
    "    state = env.reset()\n",
    "    reward_per_episode = 0\n",
    "    step_count = 0\n",
    "    done = False\n",
    "    #The Q-Table learning algorithm\n",
    "    while True:\n",
    "        step_count += 1\n",
    "        #Choose an action by greedily (with noise) picking from Q table\n",
    "        action = np.argmax(Q[state, :] + np.random.randn(1, env.action_space.n) * (1. / (i+1)))\n",
    "        #Get new state and reward from environment\n",
    "        next_state, reward, done, _ = env.step(action)\n",
    "        #Update Q-Table with new knowledge\n",
    "        Q[state, action] = Q[state, action] + learn_rate * (reward + gamma * np.max(Q[next_state, :]) - Q[state, action])\n",
    "        reward_per_episode += reward\n",
    "        state = next_state\n",
    "        if done == True:\n",
    "            break\n",
    "    step_list.append(step_count)\n",
    "    reward_list.append(reward_per_episode)\n",
    "\n",
    "    if (i+1)%report_episodes == 0:\n",
    "        avg_step = np.mean(step_list)\n",
    "        win_ratio = np.sum(reward_list) / report_episodes\n",
    "        step_report.append(avg_step)\n",
    "        win_report.append(win_ratio)\n",
    "        step_list = []\n",
    "        reward_list = []\n",
    "        print(\"{}/{} Average Step: {} Winning Ratio: {} %\".format(i+1, num_episodes, avg_step, win_ratio))\n"
   ]
  },
  {
   "cell_type": "code",
   "execution_count": 6,
   "metadata": {},
   "outputs": [
    {
     "name": "stdout",
     "output_type": "stream",
     "text": [
      "Final Q-Table\n",
      "[[  7.30951700e-03   4.26961158e-03   2.61361880e-01   1.21882220e-02]\n",
      " [  2.17753499e-03   1.64124800e-04   1.19490503e-03   1.60092847e-01]\n",
      " [  1.05391397e-02   3.25031894e-03   3.29140546e-03   1.34381920e-01]\n",
      " [  7.99650750e-04   8.38661087e-04   0.00000000e+00   1.25053392e-01]\n",
      " [  2.90293640e-01   0.00000000e+00   1.01903778e-03   5.93034449e-04]\n",
      " [  0.00000000e+00   0.00000000e+00   0.00000000e+00   0.00000000e+00]\n",
      " [  6.42180305e-05   1.19398606e-05   2.10031155e-01   3.20681236e-05]\n",
      " [  0.00000000e+00   0.00000000e+00   0.00000000e+00   0.00000000e+00]\n",
      " [  1.25999909e-05   5.16806485e-03   2.67821264e-04   5.93044035e-01]\n",
      " [  0.00000000e+00   7.44186960e-01   2.04224553e-03   0.00000000e+00]\n",
      " [  2.27994127e-01   5.13405921e-04   3.21557931e-04   8.58437218e-04]\n",
      " [  0.00000000e+00   0.00000000e+00   0.00000000e+00   0.00000000e+00]\n",
      " [  0.00000000e+00   0.00000000e+00   0.00000000e+00   0.00000000e+00]\n",
      " [  1.47954301e-03   1.38133486e-03   8.93794367e-01   5.56394099e-04]\n",
      " [  0.00000000e+00   2.20332063e-03   0.00000000e+00   9.85978415e-01]\n",
      " [  0.00000000e+00   0.00000000e+00   0.00000000e+00   0.00000000e+00]]\n"
     ]
    }
   ],
   "source": [
    "print(\"Final Q-Table\")\n",
    "print(Q)"
   ]
  },
  {
   "cell_type": "code",
   "execution_count": 7,
   "metadata": {},
   "outputs": [
    {
     "name": "stdout",
     "output_type": "stream",
     "text": [
      "0:LEFT, 1:DOWN, 2:RIGHT, 3:UP\n",
      "[[2 3 3 3]\n",
      " [0 0 2 0]\n",
      " [3 1 0 0]\n",
      " [0 2 3 0]]\n"
     ]
    }
   ],
   "source": [
    "print(\"0:LEFT, 1:DOWN, 2:RIGHT, 3:UP\")\n",
    "print(np.argmax(Q, axis=1).reshape(-1,env.action_space.n))"
   ]
  },
  {
   "cell_type": "code",
   "execution_count": 8,
   "metadata": {},
   "outputs": [
    {
     "data": {
      "text/plain": [
       "[<matplotlib.lines.Line2D at 0x119e24278>]"
      ]
     },
     "execution_count": 8,
     "metadata": {},
     "output_type": "execute_result"
    },
    {
     "data": {
      "image/png": "[encoded data removed]",
      "text/plain": [
       "<matplotlib.figure.Figure at 0x116ac31d0>"
      ]
     },
     "metadata": {},
     "output_type": "display_data"
    }
   ],
   "source": [
    "plt.plot(win_report)"
   ]
  },
  {
   "cell_type": "code",
   "execution_count": 9,
   "metadata": {},
   "outputs": [
    {
     "data": {
      "text/plain": [
       "[<matplotlib.lines.Line2D at 0x119e75780>]"
      ]
     },
     "execution_count": 9,
     "metadata": {},
     "output_type": "execute_result"
    },
    {
     "data": {
      "image/png": "[encoded data removed]",
      "text/plain": [
       "<matplotlib.figure.Figure at 0x119de95c0>"
      ]
     },
     "metadata": {},
     "output_type": "display_data"
    }
   ],
   "source": [
    "plt.plot(step_report)"
   ]
  },
  {
   "cell_type": "code",
   "execution_count": null,
   "metadata": {
    "collapsed": true
   },
   "outputs": [],
   "source": []
  }
 ],
 "metadata": {
  "kernelspec": {
   "display_name": "Python 3",
   "language": "python",
   "name": "python3"
  },
  "language_info": {
   "codemirror_mode": {
    "name": "ipython",
    "version": 3
   },
   "file_extension": ".py",
   "mimetype": "text/x-python",
   "name": "python",
   "nbconvert_exporter": "python",
   "pygments_lexer": "ipython3",
   "version": "3.6.1"
  }
 },
 "nbformat": 4,
 "nbformat_minor": 1
}
