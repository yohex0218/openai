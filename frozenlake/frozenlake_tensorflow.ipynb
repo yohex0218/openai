{
 "cells": [
  {
   "cell_type": "markdown",
   "metadata": {},
   "source": [
    "# FrozenLake Q-Network Learning"
   ]
  },
  {
   "cell_type": "code",
   "execution_count": 13,
   "metadata": {
    "collapsed": true
   },
   "outputs": [],
   "source": [
    "import gym\n",
    "import numpy as np\n",
    "import random\n",
    "import tensorflow as tf\n",
    "import matplotlib.pyplot as plt\n",
    "%matplotlib inline"
   ]
  },
  {
   "cell_type": "markdown",
   "metadata": {},
   "source": [
    "### Load the environment"
   ]
  },
  {
   "cell_type": "code",
   "execution_count": 14,
   "metadata": {
    "scrolled": false
   },
   "outputs": [
    {
     "name": "stderr",
     "output_type": "stream",
     "text": [
      "[2017-07-08 14:25:02,150] Making new env: FrozenLake8x8-v0\n"
     ]
    }
   ],
   "source": [
    "# env = gym.make('FrozenLake-v0')\n",
    "env = gym.make('FrozenLake8x8-v0')"
   ]
  },
  {
   "cell_type": "code",
   "execution_count": 15,
   "metadata": {},
   "outputs": [
    {
     "name": "stdout",
     "output_type": "stream",
     "text": [
      "64\n"
     ]
    }
   ],
   "source": [
    "print(env.observation_space.n)"
   ]
  },
  {
   "cell_type": "code",
   "execution_count": 16,
   "metadata": {},
   "outputs": [
    {
     "name": "stdout",
     "output_type": "stream",
     "text": [
      "4\n"
     ]
    }
   ],
   "source": [
    "print(env.action_space.n)"
   ]
  },
  {
   "cell_type": "markdown",
   "metadata": {},
   "source": [
    "## The Q-Network Approach"
   ]
  },
  {
   "cell_type": "markdown",
   "metadata": {},
   "source": [
    "### Implementing the network itself"
   ]
  },
  {
   "cell_type": "code",
   "execution_count": 17,
   "metadata": {
    "collapsed": true
   },
   "outputs": [],
   "source": [
    "tf.reset_default_graph()"
   ]
  },
  {
   "cell_type": "code",
   "execution_count": 18,
   "metadata": {},
   "outputs": [],
   "source": [
    "# the state encoded in a one-hot vector (1x16)\n",
    "input_state = tf.placeholder(shape=[None, env.observation_space.n], dtype=tf.float32, name=\"input_state\")\n",
    "# weights\n",
    "W = tf.Variable(tf.random_uniform([env.observation_space.n, env.action_space.n], 0, 0.01))\n",
    "# a vector of 4 Q-values, one for each action.\n",
    "Q = tf.matmul(input_state, W)\n",
    "\n",
    "#Below we obtain the loss by taking the sum of squares difference between the target and prediction Q values.\n",
    "target = tf.placeholder(shape=[1,env.action_space.n], dtype=tf.float32, name=\"target\")\n",
    "loss = tf.reduce_sum(tf.square(target - Q))\n",
    "optimizer = tf.train.GradientDescentOptimizer(learning_rate=0.1).minimize(loss)"
   ]
  },
  {
   "cell_type": "markdown",
   "metadata": {},
   "source": [
    "### Training the network"
   ]
  },
  {
   "cell_type": "code",
   "execution_count": 19,
   "metadata": {
    "collapsed": true
   },
   "outputs": [],
   "source": [
    "def get_input(state):\n",
    "    n_space = env.observation_space.n\n",
    "    return np.eye(n_space)[state].reshape(1,n_space)"
   ]
  },
  {
   "cell_type": "code",
   "execution_count": 20,
   "metadata": {
    "scrolled": true
   },
   "outputs": [
    {
     "name": "stdout",
     "output_type": "stream",
     "text": [
      "500/10000 Average Step: 25.386 Winning Ratio: 0.014 %\n",
      "1000/10000 Average Step: 18.104 Winning Ratio: 0.002 %\n",
      "1500/10000 Average Step: 29.112 Winning Ratio: 0.032 %\n",
      "2000/10000 Average Step: 51.18 Winning Ratio: 0.128 %\n",
      "2500/10000 Average Step: 69.246 Winning Ratio: 0.346 %\n",
      "3000/10000 Average Step: 75.194 Winning Ratio: 0.556 %\n",
      "3500/10000 Average Step: 82.116 Winning Ratio: 0.634 %\n",
      "4000/10000 Average Step: 85.518 Winning Ratio: 0.646 %\n",
      "4500/10000 Average Step: 98.34 Winning Ratio: 0.73 %\n",
      "5000/10000 Average Step: 90.522 Winning Ratio: 0.76 %\n",
      "5500/10000 Average Step: 89.054 Winning Ratio: 0.74 %\n",
      "6000/10000 Average Step: 86.07 Winning Ratio: 0.692 %\n",
      "6500/10000 Average Step: 94.28 Winning Ratio: 0.77 %\n",
      "7000/10000 Average Step: 90.878 Winning Ratio: 0.742 %\n",
      "7500/10000 Average Step: 95.836 Winning Ratio: 0.72 %\n",
      "8000/10000 Average Step: 89.624 Winning Ratio: 0.742 %\n",
      "8500/10000 Average Step: 99.45 Winning Ratio: 0.718 %\n",
      "9000/10000 Average Step: 98.89 Winning Ratio: 0.766 %\n",
      "9500/10000 Average Step: 89.828 Winning Ratio: 0.774 %\n",
      "10000/10000 Average Step: 89.92 Winning Ratio: 0.694 %\n"
     ]
    }
   ],
   "source": [
    "# Set learning parameters\n",
    "gamma = .99\n",
    "epsilon = 0.1\n",
    "num_episodes = 10000\n",
    "\n",
    "#create lists to contain total rewards and steps per episode\n",
    "report_episodes = 500\n",
    "step_report = []\n",
    "win_report = []\n",
    "step_list = []\n",
    "reward_list = []\n",
    "\n",
    "with tf.Session() as sess:\n",
    "    sess.run(tf.global_variables_initializer())\n",
    "    for i in range(num_episodes):\n",
    "        #Reset environment and get first new observation\n",
    "        state = env.reset()\n",
    "        reward_per_episode = 0\n",
    "        done = False\n",
    "        step_count = 0\n",
    "        #The Q-Network\n",
    "        while True:\n",
    "            step_count += 1\n",
    "            #Choose an action by greedily (with e chance of random action) from the Q-network\n",
    "            Q_current = sess.run(Q, feed_dict={input_state: get_input(state)})\n",
    "            # e-greedy\n",
    "            if np.random.rand(1) < epsilon:\n",
    "                action = env.action_space.sample()\n",
    "            else:\n",
    "                action = np.argmax(Q_current[0])\n",
    "            #Get new state and reward from environment\n",
    "            next_state, reward, done, _ = env.step(action)\n",
    "            #Obtain the Q' values by feeding the new state through our network and set our target value for chosen action.\n",
    "            targetQ = Q_current\n",
    "            Q_next = sess.run(Q, feed_dict={input_state: get_input(next_state)})\n",
    "            targetQ[0, action] = reward + gamma * np.max(Q_next)\n",
    "            #Train our network using target and predicted Q values\n",
    "            sess.run(optimizer, feed_dict={input_state:get_input(state), target:targetQ})\n",
    "            reward_per_episode += reward\n",
    "            state = next_state\n",
    "            if done == True:\n",
    "                #Reduce chance of random action as we train the model.\n",
    "                epsilon = 1./((i/50) + 10)\n",
    "                break\n",
    "\n",
    "        step_list.append(step_count)\n",
    "        reward_list.append(reward_per_episode)\n",
    "\n",
    "        if (i+1)%report_episodes == 0:\n",
    "            avg_step = np.mean(step_list)\n",
    "            win_ratio = np.sum(reward_list) / report_episodes\n",
    "            step_report.append(avg_step)\n",
    "            win_report.append(win_ratio)\n",
    "            step_list = []\n",
    "            reward_list = []\n",
    "            print(\"{}/{} Average Step: {} Winning Ratio: {} %\".format(i+1, num_episodes, avg_step, win_ratio))\n",
    "        \n",
    "    final_Q = sess.run(Q, feed_dict={input_state: np.eye(env.observation_space.n)})"
   ]
  },
  {
   "cell_type": "code",
   "execution_count": 21,
   "metadata": {},
   "outputs": [
    {
     "name": "stdout",
     "output_type": "stream",
     "text": [
      "Final Q-Table\n",
      "[[  2.77661145e-01   2.92900383e-01   2.75857359e-01   3.58607829e-01]\n",
      " [  2.98503429e-01   2.97342360e-01   3.01543564e-01   3.67375225e-01]\n",
      " [  3.14995974e-01   3.27584714e-01   3.16110611e-01   3.91406089e-01]\n",
      " [  3.41370851e-01   3.51604283e-01   4.24366325e-01   3.46357942e-01]\n",
      " [  3.70614767e-01   3.71013641e-01   3.72811854e-01   4.52241987e-01]\n",
      " [  3.96944702e-01   3.96727920e-01   4.85556513e-01   3.97776186e-01]\n",
      " [  4.19252425e-01   4.17356282e-01   4.99697030e-01   4.19955373e-01]\n",
      " [  4.23173308e-01   4.39260751e-01   5.11259556e-01   4.39976215e-01]\n",
      " [  2.96748817e-01   1.99707776e-01   1.80317119e-01   1.43942550e-01]\n",
      " [  2.23099098e-01   2.51512855e-01   2.64432430e-01   3.17522615e-01]\n",
      " [  2.64992148e-01   2.68986434e-01   2.67664671e-01   3.71118009e-01]\n",
      " [  2.52012908e-01   3.08125526e-01   2.64806807e-01   4.09491539e-01]\n",
      " [  3.47322226e-01   3.41540068e-01   3.49298149e-01   4.36475396e-01]\n",
      " [  3.70561719e-01   3.68617535e-01   3.47264856e-01   4.72784460e-01]\n",
      " [  4.22891855e-01   4.21216875e-01   5.13260007e-01   4.22056556e-01]\n",
      " [  4.44953084e-01   4.28304642e-01   5.27275920e-01   4.28601325e-01]\n",
      " [  7.87098035e-02   2.07574382e-01   6.77163079e-02   1.00357257e-01]\n",
      " [  1.51957005e-01   1.26642153e-01   1.37232274e-01   2.06905052e-01]\n",
      " [  1.26148686e-02   3.09490710e-02   5.71121573e-02   1.99936330e-01]\n",
      " [  3.57009517e-03   7.42525561e-03   9.02425032e-04   6.47614943e-03]\n",
      " [  1.89714983e-01   2.72813230e-03   5.44561120e-03   1.17957048e-01]\n",
      " [  1.89541224e-02   2.50471175e-01   3.08523383e-02   1.77250355e-02]\n",
      " [  4.18445379e-01   4.04034138e-01   5.02845526e-01   3.91663879e-01]\n",
      " [  4.52807635e-01   5.59882462e-01   4.72887039e-01   4.59281445e-01]\n",
      " [  9.39951390e-02   1.08196154e-01   1.16875418e-01   9.34200510e-02]\n",
      " [  4.82937768e-02   3.81245427e-02   4.43593748e-02   1.50776803e-01]\n",
      " [  1.51590377e-01   1.41334170e-02   1.81757491e-02   2.97996737e-02]\n",
      " [  4.06222837e-03   5.55948168e-03   4.88397712e-03   4.98441868e-02]\n",
      " [  6.13120478e-03   1.52168209e-02   5.55960089e-03   1.02228969e-01]\n",
      " [  8.49281810e-03   3.57984053e-03   5.61742531e-03   3.35106137e-03]\n",
      " [  2.91708469e-01   3.44315320e-01   4.69128996e-01   2.04142198e-01]\n",
      " [  5.19016981e-01   4.70524311e-01   6.21461332e-01   4.62736309e-01]\n",
      " [  2.88321935e-02   2.34400965e-02   1.25558348e-02   9.11236927e-02]\n",
      " [  3.06084249e-02   9.18756798e-03   7.73966536e-02   8.93351529e-03]\n",
      " [  1.31306509e-02   2.13920306e-02   7.22606899e-03   6.52622730e-02]\n",
      " [  5.12056099e-03   5.32146683e-03   4.36905958e-03   8.62263981e-03]\n",
      " [  8.33253656e-03   7.91824237e-03   1.58752559e-03   1.02838859e-01]\n",
      " [  2.04901844e-02   2.05695033e-02   8.26757997e-02   2.14047860e-02]\n",
      " [  2.27587372e-01   1.64247081e-01   1.86744913e-01   4.63509083e-01]\n",
      " [  5.15936792e-01   5.21378398e-01   7.38976419e-01   5.54125905e-01]\n",
      " [  5.83129004e-03   7.46736117e-03   6.89491490e-03   6.49328670e-03]\n",
      " [  7.17606512e-04   4.55394969e-04   8.16653483e-03   1.53726572e-03]\n",
      " [  3.11431033e-03   5.84297173e-04   8.24492052e-03   9.41201206e-03]\n",
      " [  4.79023904e-03   3.67814228e-02   3.54136690e-03   7.48100644e-03]\n",
      " [  3.48924398e-02   1.38847227e-03   3.12363962e-03   9.22681764e-03]\n",
      " [  1.17532037e-01   2.84096226e-03   3.73083577e-02   2.82589300e-03]\n",
      " [  7.99407251e-03   2.89385905e-03   5.39123034e-03   1.50820008e-04]\n",
      " [  4.45653141e-01   3.55276108e-01   8.34657609e-01   6.58726990e-01]\n",
      " [  6.70905272e-03   6.56862324e-03   6.95693679e-03   6.52244128e-03]\n",
      " [  5.52252168e-03   1.37615798e-03   1.23597379e-03   6.63525192e-03]\n",
      " [  4.21575038e-03   1.58641813e-03   3.55410203e-03   8.11833050e-03]\n",
      " [  9.04202089e-03   5.16479136e-03   4.25998447e-03   1.34342164e-02]\n",
      " [  9.21325758e-03   4.66834428e-03   4.95747803e-03   6.83833333e-03]\n",
      " [  5.02327085e-03   5.72104147e-03   1.89237952e-01   5.70357917e-03]\n",
      " [  8.80794786e-03   1.16616371e-03   8.75359774e-03   2.00638408e-03]\n",
      " [  5.40437400e-01   3.98594975e-01   9.34542060e-01   5.37891030e-01]\n",
      " [  2.13283370e-03   7.02253170e-03   6.98230043e-03   5.75332809e-03]\n",
      " [  7.04232231e-03   6.20837091e-03   6.95017213e-03   2.33498914e-03]\n",
      " [  3.32420343e-03   8.42617732e-03   1.83173292e-03   6.83830353e-03]\n",
      " [  2.89092050e-03   3.25973029e-03   5.27458638e-03   8.03886168e-03]\n",
      " [  3.65198031e-03   1.53444649e-03   3.32084764e-03   1.01907134e-01]\n",
      " [  1.09345159e-02   2.40609139e-01   8.81484710e-04   4.74331016e-03]\n",
      " [  6.04946725e-03   3.76913906e-03   4.86534694e-03   4.20087904e-01]\n",
      " [  9.09129158e-03   6.52335491e-03   5.95550053e-03   3.23144195e-04]]\n"
     ]
    }
   ],
   "source": [
    "print(\"Final Q-Table\")\n",
    "print(final_Q)"
   ]
  },
  {
   "cell_type": "code",
   "execution_count": 22,
   "metadata": {},
   "outputs": [
    {
     "name": "stdout",
     "output_type": "stream",
     "text": [
      "0:LEFT, 1:DOWN, 2:RIGHT, 3:UP\n",
      "[[3 3 3 2]\n",
      " [3 2 2 2]\n",
      " [0 3 3 3]\n",
      " [3 3 2 2]\n",
      " [1 3 3 1]\n",
      " [0 1 2 1]\n",
      " [2 3 0 3]\n",
      " [3 0 2 2]\n",
      " [3 2 3 3]\n",
      " [3 2 3 2]\n",
      " [1 2 3 1]\n",
      " [0 0 0 2]\n",
      " [2 3 3 3]\n",
      " [0 2 0 2]\n",
      " [1 0 1 3]\n",
      " [3 1 3 0]]\n"
     ]
    }
   ],
   "source": [
    "print(\"0:LEFT, 1:DOWN, 2:RIGHT, 3:UP\")\n",
    "print(np.argmax(final_Q, axis=1).reshape(-1, env.action_space.n))"
   ]
  },
  {
   "cell_type": "markdown",
   "metadata": {},
   "source": [
    "### Some statistics on network performance"
   ]
  },
  {
   "cell_type": "markdown",
   "metadata": {},
   "source": [
    "We can see that the network beings to consistly reach the goal around the 750 episode mark."
   ]
  },
  {
   "cell_type": "code",
   "execution_count": 23,
   "metadata": {},
   "outputs": [
    {
     "data": {
      "text/plain": [
       "[<matplotlib.lines.Line2D at 0x115664320>]"
      ]
     },
     "execution_count": 23,
     "metadata": {},
     "output_type": "execute_result"
    },
    {
     "data": {
      "image/png": "[encoded data removed]",
      "text/plain": [
       "<matplotlib.figure.Figure at 0x11549f780>"
      ]
     },
     "metadata": {},
     "output_type": "display_data"
    }
   ],
   "source": [
    "plt.plot(win_report)"
   ]
  },
  {
   "cell_type": "markdown",
   "metadata": {},
   "source": [
    "It also begins to progress through the environment for longer than chance aroudn the 750 mark as well."
   ]
  },
  {
   "cell_type": "code",
   "execution_count": 24,
   "metadata": {
    "scrolled": true
   },
   "outputs": [
    {
     "data": {
      "text/plain": [
       "[<matplotlib.lines.Line2D at 0x1156c0358>]"
      ]
     },
     "execution_count": 24,
     "metadata": {},
     "output_type": "execute_result"
    },
    {
     "data": {
      "image/png": "[encoded data removed]",
      "text/plain": [
       "<matplotlib.figure.Figure at 0x1157170f0>"
      ]
     },
     "metadata": {},
     "output_type": "display_data"
    }
   ],
   "source": [
    "plt.plot(step_report)"
   ]
  },
  {
   "cell_type": "code",
   "execution_count": null,
   "metadata": {
    "collapsed": true
   },
   "outputs": [],
   "source": []
  }
 ],
 "metadata": {
  "kernelspec": {
   "display_name": "Python 3",
   "language": "python",
   "name": "python3"
  },
  "language_info": {
   "codemirror_mode": {
    "name": "ipython",
    "version": 3
   },
   "file_extension": ".py",
   "mimetype": "text/x-python",
   "name": "python",
   "nbconvert_exporter": "python",
   "pygments_lexer": "ipython3",
   "version": "3.6.1"
  }
 },
 "nbformat": 4,
 "nbformat_minor": 1
}
